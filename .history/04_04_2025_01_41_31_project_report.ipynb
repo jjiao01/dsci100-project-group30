{
 "cells": [
  {
   "cell_type": "markdown",
   "id": "6e4e294a-ad41-47ca-b0de-9533d117a69a",
   "metadata": {},
   "source": [
    "# Predicting the average session duration of a player via experience level"
   ]
  },
  {
   "cell_type": "markdown",
   "id": "890b9a69-3a04-4700-9aa3-25f932fcc58b",
   "metadata": {},
   "source": [
    "## Introduction"
   ]
  },
  {
   "cell_type": "markdown",
   "id": "b1df7bf0-c3a6-4352-8d7c-d574564bbec2",
   "metadata": {},
   "source": [
    "In the gaming industry, it is crucial to understand player behaviour in order to enhance user experience. In particular, a research group in Computer Science at UBC is collecting data about video game playing. To do so, they are using a Minecraft server - a popular open-world sandbox game that allows players to build, explore, and survive in a block-based virtual world. The broad question of interest is which \"kinds\" of players, measured by their experience level, are most likely to contribute to a large amount of data, measured by their session duration. This is to ensure that the number of licenses on hand is sufficiently large enough to accommodate all players at the same time with a high probability. \n",
    "\n",
    "Specifically, we will address the question: **Can we predict the average session duration of a player through their experience level?**\n",
    "\n",
    "The data we are working with consists of two different sets: **players.csv** which includes data and characteristics about each player, and **sessions.csv** which includes data about each recorded individual playing session.  \n",
    "\n",
    "<br>\n",
    "\n",
    "<font size=\"3\"> Players Dataset: A list of all unique players, including data about each player </font>\n",
    "- Number of observations: 196\n",
    "- Number of variables: 7\n",
    "\n",
    "| Variable Name   | Variable Type   | Data Type   | Data Description   |\n",
    "|------------|------------|------------|------------|\n",
    "| `experience`  | Categorical  | Character  | Player's experience level in Minecraft (Beginner, Amateur, Regular, Veteran, Pro)  |\n",
    "| `subscribe`  | Categorical  | Logical  | Whether the individual player has subscribed to the gaming-related newsletter or not (TRUE = Yes, FALSE = No)  |\n",
    "| `hashedEmail`  | Categorical (unique identifier variable)  | Character  | Hashed version of the player's email for anonymization  |\n",
    "| `played_hours`  | Quantitative  | Double  | Total number of hours played by the player  |\n",
    "| `name`  | Categorical  | Character  | Player's name (first name only) |\n",
    "| `gender`  | Categorical  | Character  | Player's gender (Male, Female, Non-binary, Two-spirited, Other, Prefer not to say) |\n",
    "| `Age`  | Quantitative  | Double  | Player's age  |  \n",
    "\n",
    "<br>\n",
    "\n",
    "<font size=\"3\"> Sessions Dataset: A list of individual play sessions by each player, including data about the session </font>\n",
    "\n",
    "- Number of observations: 1535\n",
    "- Number of variables: 5 \n",
    "\n",
    "| Variable Name   | Variable Type   | Data Type   | Data Description   |\n",
    "|------------|------------|------------|------------|\n",
    "| `hashedEmail`  | Categorical (unique identifier variable) | Character  | Hashed version of the player's email for anonymization   |\n",
    "| `start_time`  | Quantitative  | Character  | Human-readable start time of a playing session, formatted as day/month/year with a 24 hour clock time stamp  |\n",
    "| `end_time`  | Quantitative  | Character  | Human-readable end time of a playing session, formatted as day/month/year with a 24 hour clock time stamp  |\n",
    "| `original_start_time`  | Quantitative  | Double  | Start time of a playing session represented in scientific notation Unix timestamp |\n",
    "| `original_end_time`  | Quantitative  | Double  | End time of a playing session represented in scientific notation Unix timestamp |  \n",
    "\n",
    "<br>\n",
    "\n",
    "We will use `experience` as the explanatory variable and average `session duration` as the response variable. By examining patterns in the data, we can determine whether there is a significant relationship between experience and the average session duration of a player."
   ]
  },
  {
   "cell_type": "markdown",
   "id": "3ba1dd1b-256c-4054-b2ab-e79efdade737",
   "metadata": {},
   "source": [
    "## Methods & Results"
   ]
  },
  {
   "cell_type": "markdown",
   "id": "3afa72b4-5be5-4f7a-974b-71fc2ff5312d",
   "metadata": {},
   "source": [
    "#### Preliminary exploratory data analysis:\n",
    "Step 1) Imported libraries and read in the `players.csv` and `sessions.csv` datasets from the Minecraft server study.\n",
    "\n",
    "Step 2) Cleaned and tidied both datasets by selecting relevant columns and converting timestamps to usable formats.\n",
    "\n",
    "Step 2a) For `sessions.csv`, we separated the `start_time` and `end_time` columns into individual date and time components, <br>\n",
    "parsed them into POSIX datetime format, and calculated session duration in minutes by subtracting the start from the end timestamp.\n",
    "\n",
    "Step 3) Merged the datasets using `hashedEmail` to link player profiles with their individual play sessions.\n",
    "\n",
    "Step 4) Split the data into training and testing sets (only working with the training set until the final evaluation).\n",
    "\n",
    "Step 5) Summarized the training set to calculate average session duration for each player.\n",
    "\n",
    "Step 6) Visualized the relationship between session duration and experience level to explore potential patterns."
   ]
  },
  {
   "cell_type": "markdown",
   "id": "80b1d194-1c1f-4c7d-859a-9a86bc035f5e",
   "metadata": {},
   "source": [
    "#### Performing a Linear Regression Analysis:\n",
    "The objective of this project was to determine whether a player’s self-reported experience level could predict their average session duration. To evaluate this relationship, we built a linear regression model using only the training data, then generated predictions on unseen test data and assessed the model’s performance visually.\n",
    "\n",
    "---\n",
    "\n",
    "Step 1) Created a linear regression model to predict average session duration using experience level as the explanatory variable.\n",
    "\n",
    "Step 2) Fitted the model using the training data only.\n",
    "\n",
    "Step 3) Evaluated the model using predictions on the test set (unseen data).\n",
    "\n",
    "Step 4) Visualized predicted versus actual session durations to assess the model’s effectiveness.\n",
    "\n",
    "Step 5) Interpreted results and assessed whether experience level is a meaningful predictor of play behavior.\n",
    "\n",
    "---\n",
    "\n",
    "We believe utilizing a linear regression model is appropriate as it provides a clear and interpretable way to understand the relationships between player characteristics (such as experience and hours played) and the total data contribution as a continuous outcome. Moreover, linear regression assumes that there is a linear relationship between the predictors and the dependent variable, which makes it useful for quantifying how each player characteristic contributes to the total data contribution. Furthermore, linear regression works well on small datasets whereas k-nn regression can be more sensitive to small sample sizes and noise (especially when the predictor is not numeric)."
   ]
  },
  {
   "cell_type": "markdown",
   "id": "1cc1ba26-4149-421c-82cb-46ea7e7f99d8",
   "metadata": {},
   "source": [
    "### Preliminary exploratory data analysis:"
   ]
  },
  {
   "cell_type": "markdown",
   "id": "e199185b-b954-4334-9f55-2a1905f2ad8e",
   "metadata": {},
   "source": [
    "#### Importing Libraries"
   ]
  },
  {
   "cell_type": "code",
   "execution_count": null,
   "id": "b1a941b2-530e-4362-b432-8ff35db3fcd9",
   "metadata": {},
   "outputs": [],
   "source": [
    "library(tidyverse)\n",
    "library(tidymodels)\n",
    "library(repr)\n",
    "library(lubridate)"
   ]
  },
  {
   "cell_type": "markdown",
   "id": "8f13a0b4-c099-4fee-b219-4cd1f83381d4",
   "metadata": {},
   "source": [
    "#### Importing Players and Sessions Datasets\n",
    "We utilized read_csv to import both of the datasets from the online directory."
   ]
  },
  {
   "cell_type": "code",
   "execution_count": null,
   "id": "6b50d91e-1db2-43ba-b2b0-9d96edc0f3a0",
   "metadata": {},
   "outputs": [],
   "source": [
    "players = read_csv(\"https://drive.google.com/uc?export=download&id=1Mw9vW0hjTJwRWx0bDXiSpYsO3gKogaPz\")\n",
    "sessions = read_csv(\"https://drive.google.com/uc?export=download&id=14O91N5OlVkvdGxXNJUj5jIsV5RexhzbB\")"
   ]
  },
  {
   "cell_type": "markdown",
   "id": "9af0dfd9-fd0d-4120-a6fb-f0d6b2ed93a9",
   "metadata": {},
   "source": [
    "#### Cleaning & Wrangling the Data\n",
    "We clean and prepare both datasets. For the players dataset, we remove irrelevant variables. For sessions, we separate date and time, convert to POSIX datetime, and compute session duration in minutes."
   ]
  },
  {
   "cell_type": "code",
   "execution_count": null,
   "id": "e203c842-18a4-4bcd-9697-e21072233088",
   "metadata": {},
   "outputs": [],
   "source": [
    "set.seed(1)\n",
    "\n",
    "# Remove subscription and gender variables from player dataset\n",
    "players_clean <- select(players, experience, hashedEmail, played_hours, name, age)\n",
    "head(players_clean)\n",
    "\n",
    "# Separate start_time and end_time into individual date & time columns for session dataset, and then compute session duration\n",
    "sessions_clean <- sessions |>\n",
    "  separate(start_time, into = c(\"start_date\", \"start_time\"), sep = \" \") |>\n",
    "  separate(end_time, into = c(\"end_date\", \"end_time\"), sep = \" \") |>\n",
    "  mutate(start_datetime = parse_date_time(paste(start_date, start_time), orders = \"dmy HM\"),\n",
    "         end_datetime = parse_date_time(paste(end_date, end_time), orders = \"dmy HM\"),\n",
    "         duration_mins = as.numeric(difftime(end_datetime, start_datetime, units = \"mins\"))) |>\n",
    "  filter(!is.na(duration_mins)) |>\n",
    "  select(hashedEmail, duration_mins)"
   ]
  },
  {
   "cell_type": "markdown",
   "id": "19959733-9a08-43fc-a81a-09eb2e0c76d5",
   "metadata": {},
   "source": [
    "$Figure$ $1$\n",
    "\n",
    "**Legend**: This table shows the first six rows of the cleaned `players_clean` dataset after removing irrelevant columns and tidying the data. Each row corresponds to an individual player, showing their experience level, anonymized identifier (hashedEmail), total hours played, name, and age.\n",
    "\n",
    "\n",
    "**Interpretation**: During the date-time conversion step, a warning appeared indicating that two values failed to parse correctly using `parse_date_time()`. This typically occurs when timestamps are missing or improperly formatted (e.g., invalid dates or times). These rows were automatically filtered out using `filter(!is.na(duration_mins))` to ensure only valid session durations were included in the analysis. Since only two rows were affected, this had a negligible impact on the overall results."
   ]
  },
  {
   "cell_type": "markdown",
   "id": "633f0274-c52e-4fe2-a57c-1b0588d3ba32",
   "metadata": {},
   "source": [
    "#### Merging the Cleaned Datasets\n",
    "We merge the cleaned players and sessions datasets using the common key `hashedEmail` in order to split into training and testing sets. This allows us to analyze player characteristics in relation to their session behavior."
   ]
  },
  {
   "cell_type": "code",
   "execution_count": null,
   "id": "fac8cd31-f6a2-4d82-817a-d73191595f10",
   "metadata": {},
   "outputs": [],
   "source": [
    "set.seed(1)\n",
    "\n",
    "# Combining both datasets in order to split into training and testing sets \n",
    "combined_data <- players_clean |>\n",
    "  inner_join(sessions_clean, by = \"hashedEmail\")"
   ]
  },
  {
   "cell_type": "markdown",
   "id": "8bb0b0d3-a142-4c8c-9681-3f0d6bd1b102",
   "metadata": {},
   "source": [
    "#### Splitting the Data into Training and Testing Sets\n",
    "Before working on our model, we need to split the data into training and testing sets. We split the combined dataset into training (75%) and testing (25%) sets, stratifying by experience level. We do not use the test set until the very end to avoid data leakage."
   ]
  },
  {
   "cell_type": "code",
   "execution_count": null,
   "id": "f81e1f3f-d652-457f-bab3-e083780cd998",
   "metadata": {},
   "outputs": [],
   "source": [
    "set.seed(123)\n",
    "\n",
    "# Splitting dataframe into training and testing datasets\n",
    "split <- initial_split(combined_data, prop = 0.75, strata = experience)\n",
    "\n",
    "train_df <- training(split)\n",
    "test_df <- testing(split)\n",
    "\n",
    "head(train_df)\n",
    "head(test_df)"
   ]
  },
  {
   "cell_type": "markdown",
   "id": "d5eea143-1016-43f0-9e37-d4e91d41c786",
   "metadata": {},
   "source": [
    "$Figure$ $2$\n",
    "\n",
    "**Legend**: This table shows the first six rows of the training dataset, created by stratified splitting of the full dataset (75% for training, 25% for testing). Each row represents an individual play session and includes the player’s experience level, hashed identifier, playtime in hours, name, age, and session duration in minutes.\n",
    "\n",
    "\n",
    "**Interpretation**: This confirms that the training set has preserved the key structure and variables from the original data. Multiple sessions for the same player (e.g., Morgan) appear as separate rows, each with a unique session duration. This dataset will be used for all model development and exploratory analysis to avoid data leakage.\n",
    "\n",
    "---\n",
    "\n",
    "$Figure$ $3$\n",
    "\n",
    "**Legend**: This table shows the first six rows of the testing dataset, which will be used solely for final model evaluation. It includes the same structure as the training set and was created using stratified sampling to ensure proportional representation of experience levels.\n",
    "\n",
    "\n",
    "**Interpretation**: The test set also contains multiple sessions for the same player, showing how session duration can vary widely. This range underscores the variability we hope to capture in our modeling. No summaries or models are built on this data until the very end of the analysis."
   ]
  },
  {
   "cell_type": "markdown",
   "id": "1a8f77a5-7c2b-4b43-a640-fcbf3e2f8bf3",
   "metadata": {},
   "source": [
    "#### Summarizing the Training Data\n",
    "We calculate the average session duration for each player using only the training data. This will serve as the basis for both exploratory analysis and model fitting."
   ]
  },
  {
   "cell_type": "code",
   "execution_count": null,
   "id": "e6864e53-296a-4670-a941-db01927da03a",
   "metadata": {},
   "outputs": [],
   "source": [
    "# Summarize average session duration per player in training set\n",
    "train_summary <- train_df |>\n",
    "  group_by(hashedEmail, experience, age, name) |>\n",
    "  summarize(avg_duration = mean(duration_mins), .groups = \"drop\")\n",
    "\n",
    "# Prepare test set summary (for evaluation later)\n",
    "test_summary <- test_df |>\n",
    "  group_by(hashedEmail, experience, age, name) |>\n",
    "  summarize(avg_duration = mean(duration_mins), .groups = \"drop\")\n",
    "\n",
    "head(train_summary)\n",
    "head(test_summary)"
   ]
  },
  {
   "cell_type": "markdown",
   "id": "88642cf0-2283-4757-bbb4-48e84bdaa5f9",
   "metadata": {},
   "source": [
    "$Figure$ $4$\n",
    "\n",
    "**Legend**: This table displays the first six rows of the summarized training set, where each row now represents a single player. The average session duration was computed by grouping all session durations for each player in the training set.\n",
    "\n",
    "\n",
    "\n",
    "\n",
    "**Interpretation**: We can see variability in average session duration even among players with the same experience level (for example, both Pro and Regular players appear with different average values). This summary is now in the correct format for regression modeling, where each observation corresponds to one player with a single outcome (`avg_duration`) and predictor (`experience`).\n",
    "\n",
    "\n",
    "\n",
    "---\n",
    "\n",
    "$Figure$ $5$\n",
    "\n",
    "**Legend**: This table presents the first six rows of the summarized test set. Like the training summary, each player appears only once, with an average session duration based on all of their test sessions.\n",
    "\n",
    "\n",
    "**Interpretation**: The test set summary mirrors the structure of the training summary and will be used solely for evaluating the model’s predictions. The spread of average durations (especially within the same experience group) highlights the challenge of building a predictive model based on experience alone."
   ]
  },
  {
   "cell_type": "markdown",
   "id": "643b403a-d707-4abf-8202-4b16ccf73542",
   "metadata": {},
   "source": [
    "#### Visualizing Average Session Duration by Player Experience\n",
    "We create a bar chart showing the average session duration for each experience level using the training set only."
   ]
  },
  {
   "cell_type": "code",
   "execution_count": null,
   "id": "a0582b58-e2f9-42b0-8150-e0c043c31589",
   "metadata": {},
   "outputs": [],
   "source": [
    "# Summarize average session duration by experience\n",
    "eda_summary_train <- train_summary |>\n",
    "  group_by(experience) |>\n",
    "  summarize(mean_duration = mean(avg_duration), count = n())\n",
    "\n",
    "# Plot\n",
    "ggplot(eda_summary_train, aes(x = experience, y = mean_duration, fill = experience)) +\n",
    "  geom_bar(stat = \"identity\") +\n",
    "  labs(\n",
    "    title = \"Figure 6: Average Session Duration by Player Experience (Training Set)\",\n",
    "        x = \"Experience Level\",\n",
    "        y = \"Average Session Duration (minutes)\")+\n",
    "    theme(text = element_text(size = 15))"
   ]
  },
  {
   "cell_type": "markdown",
   "id": "eb271744-f468-45c4-a4c8-cf42b68d7a7a",
   "metadata": {},
   "source": [
    "$Figure$ $6$\n",
    "\n",
    "**Legend**: This bar chart displays the mean average session duration for players in each experience group, calculated using only the training data. Each bar represents the average of all players within a given experience level, where individual values were computed as the mean duration across all sessions for each player.\n",
    "\n",
    "**Interpretation**: The differences between experience groups are relatively modest. Players in the \"Beginner\" and \"Regular\" categories show slightly higher average session durations, while \"Pro\" and \"Amateur\" players have lower averages. However, the differences are not substantial enough to suggest a strong or consistent trend. These findings indicate that while experience level may be loosely associated with session duration, it is unlikely to serve as a robust or reliable predictor. This is consistent with the later regression results, which found no statistically significant effect."
   ]
  },
  {
   "cell_type": "markdown",
   "id": "a5eeaddd-4232-4f96-beab-106aa3a82c24",
   "metadata": {},
   "source": [
    "### Regression Analysis (Linear Regression)\n",
    "We fit a linear regression model using the training data to predict average session duration from experience level."
   ]
  },
  {
   "cell_type": "code",
   "execution_count": null,
   "id": "9ad1a054-5408-4780-934f-835685b7c8e9",
   "metadata": {},
   "outputs": [],
   "source": [
    "# Fit linear regression model\n",
    "lm_model <- linear_reg() |>\n",
    "  set_engine(\"lm\") |>\n",
    "  fit(avg_duration ~ experience, data = train_summary)\n",
    "\n",
    "summary(lm_model$fit)"
   ]
  },
  {
   "cell_type": "markdown",
   "id": "33f928bd-8615-49f9-9b5c-11f36327ae9c",
   "metadata": {},
   "source": [
    "$Figure$ $7$\n",
    "\n",
    "**Legend**: This output shows the results of a linear regression model trained to predict a player’s average session duration based on their self-reported experience level. The model was fit using the training set only. The intercept represents the average duration for the baseline category (\"Amateur\"), and the other coefficients reflect differences relative to that group.\n",
    "\n",
    "**Interpretation**: The model’s R² value is extremely low (0.004348), indicating that experience level explains less than 1% of the variability in session duration. Additionally, none of the experience-level coefficients are statistically significant (all p-values > 0.5), suggesting that differences between groups are not reliable or generalizable. This confirms that experience alone is not a strong or meaningful predictor of how long players engage in sessions. The model may be underfitting the data, or the predictor simply lacks explanatory power for this outcome."
   ]
  },
  {
   "cell_type": "markdown",
   "id": "04e60b6b-cded-4eec-894b-6b610842fd14",
   "metadata": {},
   "source": [
    "#### Visualizing Predicted vs Actual Values on the Test Set\n",
    "We use the test set to evaluate the model by visually comparing predicted values to actual session durations."
   ]
  },
  {
   "cell_type": "code",
   "execution_count": null,
   "id": "ca4d7952-0b13-4ab6-9713-fb215f7e5910",
   "metadata": {},
   "outputs": [],
   "source": [
    "# Predict on test set (unseen data)\n",
    "test_summary <- test_summary |>\n",
    "  mutate(pred = predict(lm_model, test_summary)$.pred)\n",
    "\n",
    "# Plot\n",
    "ggplot(test_summary, aes(x = pred, y = avg_duration, color = experience)) +\n",
    "  geom_point() +\n",
    "  geom_abline(slope = 1, intercept = 0, linetype = \"dashed\", color = \"red\") +\n",
    "  labs(\n",
    "    title = \"Figure 8: Predicted vs. Actual Average Session Duration\",\n",
    "        x = \"Predicted Duration (minutes)\",\n",
    "        y = \"Actual Duration (minutes)\") +\n",
    "    theme(text = element_text(size = 15))"
   ]
  },
  {
   "cell_type": "markdown",
   "id": "107767f2-1e41-42ea-ad69-55954a091632",
   "metadata": {},
   "source": [
    "$Figure$ $8$\n",
    "\n",
    "**Legend**: This scatterplot shows the predicted average session duration (x-axis) versus the actual observed average session duration (y-axis) for each player in the test set. Each point represents one player, and color indicates the player's experience level. The red dashed line represents perfect prediction (where predicted and actual values are equal).\n",
    "\n",
    "\n",
    "**Interpretation**: Points are widely scattered around the diagonal reference line, with no clear clustering or trend. This confirms that the linear model fails to accurately predict session duration from experience level. Many points deviate significantly from the red line, especially at higher durations, which shows that the model underestimates variability in the outcome. These results are consistent with the regression output, where R² was extremely low and all predictors were non-significant. Overall, this visualization reinforces the conclusion that experience level alone does not explain session behavior."
   ]
  },
  {
   "cell_type": "markdown",
   "id": "cb35dfef-72fd-4919-9674-dcea81272b3b",
   "metadata": {},
   "source": [
    "## Discussion"
   ]
  },
  {
   "cell_type": "markdown",
   "id": "034c42b8-65e2-47cc-b2f2-fd5d717c30d3",
   "metadata": {},
   "source": [
    "#### What impact could such findings have?"
   ]
  },
  {
   "cell_type": "markdown",
   "id": "798c681a-982f-4bbd-91c0-97b4bbfe8b37",
   "metadata": {},
   "source": [
    "The key finding — that player experience level does not significantly predict session duration — has several important implications:\n",
    "\n",
    "1. Server infrastructure planning: Game developers cannot rely solely on experience level to estimate playtime. To avoid server overloads, they may need to plan based on peak usage scenarios rather than user categories.\n",
    "\n",
    "2. Rethinking player segmentation: This challenges the assumption that more experienced players are always more engaged. Companies may need to refine their user segmentation models using additional variables such as age, time of day, or player activity patterns.\n",
    "\n",
    "3. Improving marketing and retention strategies: Since experience level alone isn’t a strong indicator of engagement, personalized offers or in-game content should be targeted based on a more nuanced understanding of player behavior."
   ]
  },
  {
   "cell_type": "markdown",
   "id": "4a64560f-f204-4266-b18e-520a67af53fd",
   "metadata": {},
   "source": [
    "#### What future questions could this lead to?"
   ]
  },
  {
   "cell_type": "markdown",
   "id": "63877cd4-49f9-456c-a8ab-9121e7697856",
   "metadata": {},
   "source": [
    "This finding opens the door to several follow-up research questions:\n",
    "\n",
    "1. Are there other variables that better predict session duration? For example, does age, gender, or in-game behavior offer better predictive power?\n",
    "\n",
    "2. Are there interactions between variables? Perhaps experience level only matters when combined with other factors, like time of day or subscription status.\n",
    "\n",
    "3. Would machine learning perform better? Future work could test whether more complex models (like decision trees or neural networks) outperform linear regression in predicting session duration."
   ]
  },
  {
   "cell_type": "code",
   "execution_count": null,
   "id": "04753518-cebe-46a3-a1a6-b8ad2613c9aa",
   "metadata": {},
   "outputs": [],
   "source": []
  }
 ],
 "metadata": {
  "kernelspec": {
   "display_name": "R",
   "language": "R",
   "name": "ir"
  },
  "language_info": {
   "codemirror_mode": "r",
   "file_extension": ".r",
   "mimetype": "text/x-r-source",
   "name": "R",
   "pygments_lexer": "r",
   "version": "4.3.3"
  }
 },
 "nbformat": 4,
 "nbformat_minor": 5
}
