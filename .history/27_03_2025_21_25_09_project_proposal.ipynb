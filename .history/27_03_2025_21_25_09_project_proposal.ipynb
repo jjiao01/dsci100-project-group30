{
 "cells": [
  {
   "cell_type": "code",
   "execution_count": null,
   "id": "7d0b35f9-1047-42f3-b4e2-798cc6ed50f3",
   "metadata": {},
   "outputs": [],
   "source": []
  }
 ],
 "metadata": {
  "kernelspec": {
   "display_name": "R",
   "language": "R",
   "name": "ir"
  },
  "language_info": {
   "codemirror_mode": "r",
   "file_extension": ".r",
   "mimetype": "text/x-r-source",
   "name": "R",
   "pygments_lexer": "r",
   "version": "4.3.3"
  }
 },
 "nbformat": 4,
 "nbformat_minor": 5
}
