{
 "cells": [
  {
   "cell_type": "markdown",
   "id": "6e4e294a-ad41-47ca-b0de-9533d117a69a",
   "metadata": {},
   "source": [
    "# Predicting the average session duration of a player via experience level"
   ]
  },
  {
   "cell_type": "markdown",
   "id": "890b9a69-3a04-4700-9aa3-25f932fcc58b",
   "metadata": {},
   "source": [
    "## Introduction"
   ]
  },
  {
   "cell_type": "code",
   "execution_count": null,
   "id": "bc582509-4aa6-4807-8fd6-47fec8017e68",
   "metadata": {},
   "outputs": [],
   "source": []
  },
  {
   "cell_type": "markdown",
   "id": "3ba1dd1b-256c-4054-b2ab-e79efdade737",
   "metadata": {},
   "source": [
    "## Methods & Results"
   ]
  },
  {
   "cell_type": "code",
   "execution_count": null,
   "id": "c05e2764-494b-4f7f-b9cf-83bf8ff7fd31",
   "metadata": {},
   "outputs": [],
   "source": []
  },
  {
   "cell_type": "markdown",
   "id": "cb35dfef-72fd-4919-9674-dcea81272b3b",
   "metadata": {},
   "source": [
    "## Discussion"
   ]
  },
  {
   "cell_type": "code",
   "execution_count": null,
   "id": "71b76e0a-9fb2-4789-a37d-135142e15445",
   "metadata": {},
   "outputs": [],
   "source": []
  }
 ],
 "metadata": {
  "kernelspec": {
   "display_name": "R",
   "language": "R",
   "name": "ir"
  },
  "language_info": {
   "codemirror_mode": "r",
   "file_extension": ".r",
   "mimetype": "text/x-r-source",
   "name": "R",
   "pygments_lexer": "r",
   "version": "4.3.3"
  }
 },
 "nbformat": 4,
 "nbformat_minor": 5
}
